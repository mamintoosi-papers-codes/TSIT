{
 "cells": [
  {
   "cell_type": "code",
   "execution_count": 3,
   "metadata": {},
   "outputs": [
    {
     "ename": "NameError",
     "evalue": "name 'opt' is not defined",
     "output_type": "error",
     "traceback": [
      "\u001b[1;31m---------------------------------------------------------------------------\u001b[0m",
      "\u001b[1;31mNameError\u001b[0m                                 Traceback (most recent call last)",
      "\u001b[1;32m<ipython-input-3-83e2d837c42e>\u001b[0m in \u001b[0;36m<module>\u001b[1;34m\u001b[0m\n\u001b[0;32m     12\u001b[0m \u001b[1;31m# opt = TestOptions().parse()\u001b[0m\u001b[1;33m\u001b[0m\u001b[1;33m\u001b[0m\u001b[1;33m\u001b[0m\u001b[0m\n\u001b[0;32m     13\u001b[0m \u001b[1;33m\u001b[0m\u001b[0m\n\u001b[1;32m---> 14\u001b[1;33m \u001b[0mdataloader\u001b[0m \u001b[1;33m=\u001b[0m \u001b[0mdata\u001b[0m\u001b[1;33m.\u001b[0m\u001b[0mcreate_dataloader\u001b[0m\u001b[1;33m(\u001b[0m\u001b[0mopt\u001b[0m\u001b[1;33m)\u001b[0m\u001b[1;33m\u001b[0m\u001b[1;33m\u001b[0m\u001b[0m\n\u001b[0m",
      "\u001b[1;31mNameError\u001b[0m: name 'opt' is not defined"
     ]
    }
   ],
   "source": [
    "import os\n",
    "from collections import OrderedDict\n",
    "\n",
    "import data\n",
    "from options.test_options import TestOptions\n",
    "from models.pix2pix_model import Pix2PixModel\n",
    "from util.visualizer import Visualizer\n",
    "from util import html\n",
    "from tqdm import tqdm\n",
    "\n",
    "\n",
    "# opt = TestOptions().parse()\n",
    "opt.\n",
    "dataloader = data.create_dataloader(opt)\n"
   ]
  },
  {
   "cell_type": "code",
   "execution_count": 1,
   "metadata": {},
   "outputs": [
    {
     "name": "stdout",
     "output_type": "stream",
     "text": [
      "/mnt/c/temp/git/TSIT/models/networks\n",
      "/mnt/c/temp/git/TSIT\n"
     ]
    }
   ],
   "source": []
  },
  {
   "cell_type": "code",
   "execution_count": null,
   "metadata": {
    "_cell_guid": "b1076dfc-b9ad-4769-8c92-a6c4dae69d19",
    "_uuid": "8f2839f25d086af736a60e9eeb907d3b93b6e0e5"
   },
   "outputs": [],
   "source": [
    "# This Python 3 environment comes with many helpful analytics libraries installed\n",
    "# It is defined by the kaggle/python Docker image: https://github.com/kaggle/docker-python\n",
    "# For example, here's several helpful packages to load\n",
    "\n",
    "import numpy as np # linear algebra\n",
    "import pandas as pd # data processing, CSV file I/O (e.g. pd.read_csv)\n",
    "\n",
    "# Input data files are available in the read-only \"../input/\" directory\n",
    "# For example, running this (by clicking run or pressing Shift+Enter) will list all files under the input directory\n",
    "\n",
    "import os\n",
    "# for dirname, _, filenames in os.walk('/kaggle/input'):\n",
    "#     for filename in filenames:\n",
    "#         print(os.path.join(dirname, filename))\n",
    "\n",
    "# You can write up to 20GB to the current directory (/kaggle/working/) that gets preserved as output when you create a version using \"Save & Run All\" \n",
    "# You can also write temporary files to /kaggle/temp/, but they won't be saved outside of the current session\n",
    "\n",
    "!mkdir checkpoints\n",
    "%cd checkpoints\n",
    "!mkdir ast_day2night\n",
    "%cd ast_day2night"
   ]
  },
  {
   "cell_type": "code",
   "execution_count": null,
   "metadata": {},
   "outputs": [],
   "source": [
    "# load checkpoint from my drive\n",
    "!conda install -y gdown\n",
    "!gdown 'https://drive.google.com/uc?id=1-WjSn6ko1rSo4WngsWqSKIZtqZqSuQSH'\n",
    "# import torchvision  \n",
    "# torchvision.datasets.utils.download_file_from_google_drive('1-WjSn6ko1rSo4WngsWqSKIZtqZqSuQSH', './', filename=None, md5=None)"
   ]
  },
  {
   "cell_type": "code",
   "execution_count": null,
   "metadata": {},
   "outputs": [],
   "source": [
    "!ls\n",
    "%cd /kaggle/working\n",
    "!pwd\n",
    "!ls\n",
    "# !rm latest_net_G.pth\n",
    "# !ls"
   ]
  },
  {
   "cell_type": "code",
   "execution_count": null,
   "metadata": {},
   "outputs": [],
   "source": [
    "# !rm -r TSIT\n",
    "!git clone https://github.com/mamintoosi-papers-codes/TSIT.git\n",
    "%cd TSIT\n",
    "!ls"
   ]
  },
  {
   "cell_type": "code",
   "execution_count": null,
   "metadata": {},
   "outputs": [],
   "source": [
    "!pip install dominate #==2.4.0"
   ]
  },
  {
   "cell_type": "code",
   "execution_count": null,
   "metadata": {},
   "outputs": [],
   "source": [
    "# !bash datasets/prepare_bdd100k.sh /kaggle/input/solesensei_bdd100k/bdd100k/"
   ]
  },
  {
   "cell_type": "code",
   "execution_count": null,
   "metadata": {},
   "outputs": [],
   "source": [
    "!mkdir ./datasets/bdd100k\n",
    "!mkdir ./datasets/bdd100k/bdd100k_lists"
   ]
  },
  {
   "cell_type": "code",
   "execution_count": null,
   "metadata": {},
   "outputs": [],
   "source": [
    "!cp -a ./datasets/bdd100k_lists/. ./datasets/bdd100k/bdd100k_lists/\n",
    "!cp -a /kaggle/input/solesensei_bdd100k/bdd100k/. ./datasets/bdd100k/"
   ]
  },
  {
   "cell_type": "code",
   "execution_count": null,
   "metadata": {},
   "outputs": [],
   "source": [
    "!ls"
   ]
  },
  {
   "cell_type": "code",
   "execution_count": 4,
   "metadata": {},
   "outputs": [],
   "source": [
    "NAME='ast_day2night'\n",
    "TASK='AST'\n",
    "DATA='day2night'\n",
    "CROOT='./datasets/bdd100k/bdd100k'\n",
    "SROOT='./datasets/bdd100k/bdd100k'\n",
    "CKPTROOT='../checkpoints'\n",
    "WORKER=4\n",
    "RESROOT='./results'\n",
    "EPOCH='latest'"
   ]
  },
  {
   "cell_type": "code",
   "execution_count": 9,
   "metadata": {},
   "outputs": [
    {
     "name": "stdout",
     "output_type": "stream",
     "text": [
      "----------------- Options ---------------\n",
      "                    alpha: 1.0                           \n",
      "             aspect_ratio: 2.0                           \n",
      "                batchSize: 1                             \n",
      "      cache_filelist_read: False                         \n",
      "     cache_filelist_write: False                         \n",
      "          checkpoints_dir: ../checkpoints                \t[default: ./checkpoints]\n",
      "   contain_dontcare_label: False                         \n",
      "                    croot: ./datasets/bdd100k/bdd100k    \t[default: ./datasets/summer2winter_yosemite/]\n",
      "                crop_size: 512                           \n",
      "             dataset_mode: day2night                     \t[default: summer2winteryosemite]\n",
      "          display_winsize: 512                           \n",
      "                  gpu_ids: 0                             \n",
      "                 how_many: inf                           \n",
      "                init_type: xavier                        \n",
      "            init_variance: 0.02                          \n",
      "                  isTrain: False                         \t[default: None]\n",
      "                 label_nc: 3                             \n",
      "       load_from_opt_file: False                         \n",
      "                load_size: 512                           \n",
      "         max_dataset_size: 9223372036854775807           \n",
      "                    model: pix2pix                       \n",
      "                 nThreads: 4                             \t[default: 0]\n",
      "                     name: ast_day2night                 \t[default: ast_summer2winteryosemite]\n",
      "                      nef: 16                            \n",
      "                     netG: tsit                          \n",
      "                      ngf: 64                            \n",
      "                  no_flip: True                          \n",
      "              no_instance: True                          \t[default: False]\n",
      "         no_pairing_check: True                          \t[default: False]\n",
      "                    no_ss: False                         \n",
      "                   norm_D: spectralinstance              \n",
      "                   norm_E: spectralinstance              \n",
      "                   norm_G: spectralfadesyncbatch3x3      \n",
      "                   norm_S: spectralinstance              \n",
      "    num_upsampling_layers: more                          \n",
      "                output_nc: 3                             \n",
      "                    phase: test                          \n",
      "          preprocess_mode: fixed                         \n",
      "              results_dir: ./results                     \t[default: ./results/]\n",
      "              semantic_nc: 3                             \t[default: None]\n",
      "           serial_batches: True                          \n",
      "               show_input: True                          \t[default: False]\n",
      "                    sroot: ./datasets/bdd100k/bdd100k    \t[default: ./datasets/summer2winter_yosemite/]\n",
      "                     task: AST                           \n",
      "                  use_vae: False                         \n",
      "              which_epoch: latest                        \n",
      "                    z_dim: 256                           \n",
      "----------------- End -------------------\n"
     ]
    },
    {
     "ename": "AttributeError",
     "evalue": "module 'torch._C' has no attribute '_cuda_setDevice'",
     "output_type": "error",
     "traceback": [
      "\u001b[1;31m---------------------------------------------------------------------------\u001b[0m",
      "\u001b[1;31mAttributeError\u001b[0m                            Traceback (most recent call last)",
      "\u001b[1;32mC:\\temp\\git\\TSIT\\test.py\u001b[0m in \u001b[0;36m<module>\u001b[1;34m\u001b[0m\n\u001b[0;32m     10\u001b[0m \u001b[1;33m\u001b[0m\u001b[0m\n\u001b[0;32m     11\u001b[0m \u001b[1;33m\u001b[0m\u001b[0m\n\u001b[1;32m---> 12\u001b[1;33m \u001b[0mopt\u001b[0m \u001b[1;33m=\u001b[0m \u001b[0mTestOptions\u001b[0m\u001b[1;33m(\u001b[0m\u001b[1;33m)\u001b[0m\u001b[1;33m.\u001b[0m\u001b[0mparse\u001b[0m\u001b[1;33m(\u001b[0m\u001b[1;33m)\u001b[0m\u001b[1;33m\u001b[0m\u001b[1;33m\u001b[0m\u001b[0m\n\u001b[0m\u001b[0;32m     13\u001b[0m \u001b[1;33m\u001b[0m\u001b[0m\n\u001b[0;32m     14\u001b[0m \u001b[0mdataloader\u001b[0m \u001b[1;33m=\u001b[0m \u001b[0mdata\u001b[0m\u001b[1;33m.\u001b[0m\u001b[0mcreate_dataloader\u001b[0m\u001b[1;33m(\u001b[0m\u001b[0mopt\u001b[0m\u001b[1;33m)\u001b[0m\u001b[1;33m\u001b[0m\u001b[1;33m\u001b[0m\u001b[0m\n",
      "\u001b[1;32mC:\\temp\\git\\TSIT\\options\\base_options.py\u001b[0m in \u001b[0;36mparse\u001b[1;34m(self, save)\u001b[0m\n\u001b[0;32m    176\u001b[0m                 \u001b[0mopt\u001b[0m\u001b[1;33m.\u001b[0m\u001b[0mgpu_ids\u001b[0m\u001b[1;33m.\u001b[0m\u001b[0mappend\u001b[0m\u001b[1;33m(\u001b[0m\u001b[0mid\u001b[0m\u001b[1;33m)\u001b[0m\u001b[1;33m\u001b[0m\u001b[1;33m\u001b[0m\u001b[0m\n\u001b[0;32m    177\u001b[0m         \u001b[1;31m# if len(opt.gpu_ids) > 0:\u001b[0m\u001b[1;33m\u001b[0m\u001b[1;33m\u001b[0m\u001b[1;33m\u001b[0m\u001b[0m\n\u001b[1;32m--> 178\u001b[1;33m         \u001b[1;31m#     torch.cuda.set_device(opt.gpu_ids[0])\u001b[0m\u001b[1;33m\u001b[0m\u001b[1;33m\u001b[0m\u001b[1;33m\u001b[0m\u001b[0m\n\u001b[0m\u001b[0;32m    179\u001b[0m \u001b[1;33m\u001b[0m\u001b[0m\n\u001b[0;32m    180\u001b[0m         \u001b[1;32massert\u001b[0m \u001b[0mlen\u001b[0m\u001b[1;33m(\u001b[0m\u001b[0mopt\u001b[0m\u001b[1;33m.\u001b[0m\u001b[0mgpu_ids\u001b[0m\u001b[1;33m)\u001b[0m \u001b[1;33m==\u001b[0m \u001b[1;36m0\u001b[0m \u001b[1;32mor\u001b[0m \u001b[0mopt\u001b[0m\u001b[1;33m.\u001b[0m\u001b[0mbatchSize\u001b[0m \u001b[1;33m%\u001b[0m \u001b[0mlen\u001b[0m\u001b[1;33m(\u001b[0m\u001b[0mopt\u001b[0m\u001b[1;33m.\u001b[0m\u001b[0mgpu_ids\u001b[0m\u001b[1;33m)\u001b[0m \u001b[1;33m==\u001b[0m \u001b[1;36m0\u001b[0m\u001b[1;33m,\u001b[0m\u001b[0;31m \u001b[0m\u001b[0;31m\\\u001b[0m\u001b[1;33m\u001b[0m\u001b[1;33m\u001b[0m\u001b[0m\n",
      "\u001b[1;32mC:\\Programs\\Anaconda3\\envs\\ptch\\lib\\site-packages\\torch\\cuda\\__init__.py\u001b[0m in \u001b[0;36mset_device\u001b[1;34m(device)\u001b[0m\n\u001b[0;32m    279\u001b[0m     \u001b[0mdevice\u001b[0m \u001b[1;33m=\u001b[0m \u001b[0m_get_device_index\u001b[0m\u001b[1;33m(\u001b[0m\u001b[0mdevice\u001b[0m\u001b[1;33m)\u001b[0m\u001b[1;33m\u001b[0m\u001b[1;33m\u001b[0m\u001b[0m\n\u001b[0;32m    280\u001b[0m     \u001b[1;32mif\u001b[0m \u001b[0mdevice\u001b[0m \u001b[1;33m>=\u001b[0m \u001b[1;36m0\u001b[0m\u001b[1;33m:\u001b[0m\u001b[1;33m\u001b[0m\u001b[1;33m\u001b[0m\u001b[0m\n\u001b[1;32m--> 281\u001b[1;33m         \u001b[0mtorch\u001b[0m\u001b[1;33m.\u001b[0m\u001b[0m_C\u001b[0m\u001b[1;33m.\u001b[0m\u001b[0m_cuda_setDevice\u001b[0m\u001b[1;33m(\u001b[0m\u001b[0mdevice\u001b[0m\u001b[1;33m)\u001b[0m\u001b[1;33m\u001b[0m\u001b[1;33m\u001b[0m\u001b[0m\n\u001b[0m\u001b[0;32m    282\u001b[0m \u001b[1;33m\u001b[0m\u001b[0m\n\u001b[0;32m    283\u001b[0m \u001b[1;33m\u001b[0m\u001b[0m\n",
      "\u001b[1;31mAttributeError\u001b[0m: module 'torch._C' has no attribute '_cuda_setDevice'"
     ]
    }
   ],
   "source": [
    "%load_ext autoreload\n",
    "%autoreload 2\n",
    "%run test.py \\\n",
    "    --name $NAME \\\n",
    "    --task $TASK \\\n",
    "    --gpu_ids 0 \\\n",
    "    --checkpoints_dir $CKPTROOT \\\n",
    "    --batchSize 1 \\\n",
    "    --dataset_mode $DATA \\\n",
    "    --croot $CROOT \\\n",
    "    --sroot $SROOT \\\n",
    "    --nThreads $WORKER \\\n",
    "    --no_pairing_check \\\n",
    "    --no_instance \\\n",
    "    --num_upsampling_layers more \\\n",
    "    --alpha 1.0 \\\n",
    "    --results_dir $RESROOT \\\n",
    "    --which_epoch $EPOCH  \\\n",
    "    --show_input\n"
   ]
  },
  {
   "cell_type": "code",
   "execution_count": 6,
   "metadata": {},
   "outputs": [
    {
     "ename": "NameError",
     "evalue": "name 'dataloader' is not defined",
     "output_type": "error",
     "traceback": [
      "\u001b[1;31m---------------------------------------------------------------------------\u001b[0m",
      "\u001b[1;31mNameError\u001b[0m                                 Traceback (most recent call last)",
      "\u001b[1;32m<ipython-input-6-a62ac2cfdbdd>\u001b[0m in \u001b[0;36m<module>\u001b[1;34m\u001b[0m\n\u001b[1;32m----> 1\u001b[1;33m \u001b[0mdataloader\u001b[0m\u001b[1;33m\u001b[0m\u001b[1;33m\u001b[0m\u001b[0m\n\u001b[0m",
      "\u001b[1;31mNameError\u001b[0m: name 'dataloader' is not defined"
     ]
    }
   ],
   "source": [
    "dataloader"
   ]
  },
  {
   "cell_type": "code",
   "execution_count": null,
   "metadata": {},
   "outputs": [],
   "source": [
    "# !ls datasets/bdd100k/bdd100k\n",
    "!ls results/ast_day2night/test_latest/images"
   ]
  },
  {
   "cell_type": "code",
   "execution_count": null,
   "metadata": {},
   "outputs": [],
   "source": [
    "input_images_path = \"results/ast_day2night/test_latest/images/\"\n",
    "import matplotlib.pyplot as plt\n",
    "import matplotlib.image as mpimg\n",
    "images_list = [image_name for image_name in os.listdir(input_images_path)]\n",
    "\n",
    "plt.figure(figsize=(20,10))\n",
    "columns = 2\n",
    "for i, image in enumerate(images_list):\n",
    "    plt.subplot(len(images_list) / columns + 1, columns, i + 1)\n",
    "    img = mpimg.imread(input_images_path+image, 1)\n",
    "    plt.imshow(img)\n"
   ]
  },
  {
   "cell_type": "code",
   "execution_count": null,
   "metadata": {},
   "outputs": [],
   "source": [
    "# !git clone https://github.com/mamintoosi-papers-codes/TSIT.git\n",
    "# !cp TSIT/test.py ./\n",
    "# !rm -r TSIT\n",
    "# !git clone https://github.com/mamintoosi-papers-codes/TSIT.git\n",
    "# !cp -a TSIT/datasets/bdd100k_lists/day2night/ ./datasets/bdd100k/bdd100k_lists/day2night/\n",
    "# !ls ./datasets/bdd100k/bdd100k_lists/day2night/\n",
    "# !cp -a TSIT/datasets/bdd100k_lists/day2night/ ./datasets/bdd100k/bdd100k/bdd100k_lists/day2night/\n",
    "# !cp TSIT/test_images/. ./datasets/bdd100k/bdd100k/images/100k/val/\n",
    "# !cp TSIT/test_images/31.jpg ./datasets/bdd100k/bdd100k/images/100k/val/b1cebfb7-284f5117.jpg\n",
    "!cp TSIT/test_images/46.jpg ./datasets/bdd100k/bdd100k/images/100k/val/b1cebfb7-284f5117.jpg\n",
    "\n",
    "# شاید مناسب باشه که همه تصاویر پوشه اعتبارسنجی را با تصاویر موردنظر خودمون جایگزین کرده و فایل \n",
    "# day_test.txt\n",
    "# را هم مطابق لیست تصاویرمان اصلاح کنیم"
   ]
  },
  {
   "cell_type": "code",
   "execution_count": null,
   "metadata": {},
   "outputs": [],
   "source": [
    "# %cd ..\n",
    "# !ls ./datasets/bdd100k/bdd100k/images/100k/val/"
   ]
  },
  {
   "cell_type": "code",
   "execution_count": null,
   "metadata": {},
   "outputs": [],
   "source": [
    "!ls ./TSIT/test_images/3*.*"
   ]
  },
  {
   "cell_type": "code",
   "execution_count": null,
   "metadata": {},
   "outputs": [],
   "source": [
    "!pwd"
   ]
  }
 ],
 "metadata": {
  "kernelspec": {
   "display_name": "Python 3",
   "language": "python",
   "name": "python3"
  },
  "language_info": {
   "codemirror_mode": {
    "name": "ipython",
    "version": 3
   },
   "file_extension": ".py",
   "mimetype": "text/x-python",
   "name": "python",
   "nbconvert_exporter": "python",
   "pygments_lexer": "ipython3",
   "version": "3.7.6"
  }
 },
 "nbformat": 4,
 "nbformat_minor": 4
}